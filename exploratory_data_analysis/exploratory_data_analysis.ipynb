{
 "cells": [
  {
   "cell_type": "markdown",
   "metadata": {},
   "source": [
    "This notebook focuses on exploratory data analysis (EDA) of the 'metadata.csv' file."
   ]
  },
  {
   "cell_type": "code",
   "execution_count": 55,
   "metadata": {},
   "outputs": [],
   "source": [
    "import csv\n",
    "import pandas as pd\n",
    "import numpy as np\n",
    "import matplotlib.pyplot as plt"
   ]
  },
  {
   "cell_type": "code",
   "execution_count": 56,
   "metadata": {},
   "outputs": [
    {
     "name": "stdout",
     "output_type": "stream",
     "text": [
      "D:\\ProjectMLDataScience\\human-age-detection\\train\\data\\metadata.csv\n"
     ]
    }
   ],
   "source": [
    "import os\n",
    "path_to_metadatacsv = os.path.realpath('../train/data/metadata.csv')\n",
    "print(path_to_metadatacsv)"
   ]
  },
  {
   "cell_type": "code",
   "execution_count": 57,
   "metadata": {},
   "outputs": [
    {
     "name": "stdout",
     "output_type": "stream",
     "text": [
      "Column names: ['age', 'gender', 'path', 'face_score1']\n",
      "['68', 'male', 'D:\\\\ProjectMLDataScience\\\\human-age-detection\\\\train\\\\data\\\\imdb_crop/01/nm0000001_rm946909184_1899-5-10_1968.jpg', '1.872117169344902']\n",
      "['68', 'male', 'D:\\\\ProjectMLDataScience\\\\human-age-detection\\\\train\\\\data\\\\imdb_crop/01/nm0000001_rm980463616_1899-5-10_1968.jpg', '1.1587657871914132']\n",
      "['79', 'female', 'D:\\\\ProjectMLDataScience\\\\human-age-detection\\\\train\\\\data\\\\imdb_crop/02/nm0000002_rm1346607872_1924-9-16_2004.jpg', '3.4791889134154426']\n",
      "['79', 'female', 'D:\\\\ProjectMLDataScience\\\\human-age-detection\\\\train\\\\data\\\\imdb_crop/02/nm0000002_rm1363385088_1924-9-16_2004.jpg', '3.87017062712482']\n",
      "['49', 'female', 'D:\\\\ProjectMLDataScience\\\\human-age-detection\\\\train\\\\data\\\\imdb_crop/02/nm0000002_rm221957120_1924-9-16_1974.jpg', '4.0964305784174595']\n",
      "['82', 'female', 'D:\\\\ProjectMLDataScience\\\\human-age-detection\\\\train\\\\data\\\\imdb_crop/02/nm0000002_rm2287049216_1924-9-16_2007.jpg', '3.482030102193067']\n",
      "['49', 'female', 'D:\\\\ProjectMLDataScience\\\\human-age-detection\\\\train\\\\data\\\\imdb_crop/02/nm0000002_rm238734336_1924-9-16_1974.jpg', '4.86542134035104']\n",
      "['81', 'female', 'D:\\\\ProjectMLDataScience\\\\human-age-detection\\\\train\\\\data\\\\imdb_crop/02/nm0000002_rm2585828096_1924-9-16_2006.jpg', '5.414545418118097']\n",
      "['81', 'female', 'D:\\\\ProjectMLDataScience\\\\human-age-detection\\\\train\\\\data\\\\imdb_crop/02/nm0000002_rm2769394176_1924-9-16_2006.jpg', '4.360469497529326']\n",
      "['79', 'female', 'D:\\\\ProjectMLDataScience\\\\human-age-detection\\\\train\\\\data\\\\imdb_crop/02/nm0000002_rm2780403712_1924-9-16_2004.jpg', '3.5592090092501407']\n"
     ]
    }
   ],
   "source": [
    "# Initialize an empty list to store rows\n",
    "rows = [] \n",
    "\n",
    "# Open the CSV file\n",
    "with open(path_to_metadatacsv, 'r') as file:\n",
    "    # Read the CSV file\n",
    "    read_metadatacsv = csv.reader(file)\n",
    "    \n",
    "    # File preview (column names, rows)\n",
    "    # Get column names (header) from the first row\n",
    "    column_names = next(read_metadatacsv)\n",
    "\n",
    "    # Iterate through each row and append to the 'rows' list\n",
    "    for row in read_metadatacsv:\n",
    "        rows.append(row)\n",
    "\n",
    "print(\"Column names:\", column_names)\n",
    "\n",
    "# Print the first 10 rows as a preview\n",
    "for row in rows[:10]:\n",
    "    print(row)"
   ]
  },
  {
   "cell_type": "code",
   "execution_count": 58,
   "metadata": {},
   "outputs": [
    {
     "data": {
      "text/html": [
       "<div>\n",
       "<style scoped>\n",
       "    .dataframe tbody tr th:only-of-type {\n",
       "        vertical-align: middle;\n",
       "    }\n",
       "\n",
       "    .dataframe tbody tr th {\n",
       "        vertical-align: top;\n",
       "    }\n",
       "\n",
       "    .dataframe thead th {\n",
       "        text-align: right;\n",
       "    }\n",
       "</style>\n",
       "<table border=\"1\" class=\"dataframe\">\n",
       "  <thead>\n",
       "    <tr style=\"text-align: right;\">\n",
       "      <th></th>\n",
       "      <th>age</th>\n",
       "      <th>gender</th>\n",
       "      <th>path</th>\n",
       "      <th>face_score1</th>\n",
       "    </tr>\n",
       "  </thead>\n",
       "  <tbody>\n",
       "    <tr>\n",
       "      <th>0</th>\n",
       "      <td>68</td>\n",
       "      <td>male</td>\n",
       "      <td>D:\\ProjectMLDataScience\\human-age-detection\\tr...</td>\n",
       "      <td>1.872117</td>\n",
       "    </tr>\n",
       "    <tr>\n",
       "      <th>1</th>\n",
       "      <td>68</td>\n",
       "      <td>male</td>\n",
       "      <td>D:\\ProjectMLDataScience\\human-age-detection\\tr...</td>\n",
       "      <td>1.158766</td>\n",
       "    </tr>\n",
       "    <tr>\n",
       "      <th>2</th>\n",
       "      <td>79</td>\n",
       "      <td>female</td>\n",
       "      <td>D:\\ProjectMLDataScience\\human-age-detection\\tr...</td>\n",
       "      <td>3.479189</td>\n",
       "    </tr>\n",
       "    <tr>\n",
       "      <th>3</th>\n",
       "      <td>79</td>\n",
       "      <td>female</td>\n",
       "      <td>D:\\ProjectMLDataScience\\human-age-detection\\tr...</td>\n",
       "      <td>3.870171</td>\n",
       "    </tr>\n",
       "    <tr>\n",
       "      <th>4</th>\n",
       "      <td>49</td>\n",
       "      <td>female</td>\n",
       "      <td>D:\\ProjectMLDataScience\\human-age-detection\\tr...</td>\n",
       "      <td>4.096431</td>\n",
       "    </tr>\n",
       "  </tbody>\n",
       "</table>\n",
       "</div>"
      ],
      "text/plain": [
       "   age  gender                                               path  face_score1\n",
       "0   68    male  D:\\ProjectMLDataScience\\human-age-detection\\tr...     1.872117\n",
       "1   68    male  D:\\ProjectMLDataScience\\human-age-detection\\tr...     1.158766\n",
       "2   79  female  D:\\ProjectMLDataScience\\human-age-detection\\tr...     3.479189\n",
       "3   79  female  D:\\ProjectMLDataScience\\human-age-detection\\tr...     3.870171\n",
       "4   49  female  D:\\ProjectMLDataScience\\human-age-detection\\tr...     4.096431"
      ]
     },
     "execution_count": 58,
     "metadata": {},
     "output_type": "execute_result"
    }
   ],
   "source": [
    "# Load the CSV file into the DataFrame\n",
    "df_metadata = pd.read_csv(path_to_metadatacsv)\n",
    "\n",
    "# Display the first 5 rows of the DataFrame 'df_metadata'\n",
    "df_metadata.head()"
   ]
  },
  {
   "cell_type": "code",
   "execution_count": 59,
   "metadata": {},
   "outputs": [
    {
     "data": {
      "text/plain": [
       "(224840, 4)"
      ]
     },
     "execution_count": 59,
     "metadata": {},
     "output_type": "execute_result"
    }
   ],
   "source": [
    "# Check if the number of lines generated in the csv file is correct, compare with file 'read_imdb_wiki_crop.ipynb'\n",
    "df_metadata.shape"
   ]
  },
  {
   "cell_type": "code",
   "execution_count": 74,
   "metadata": {},
   "outputs": [
    {
     "name": "stdout",
     "output_type": "stream",
     "text": [
      "Value: male, Number of appearances: 129729, Ratio: 57.70%\n",
      "Value: female, Number of appearances: 95111, Ratio: 42.30%\n"
     ]
    }
   ],
   "source": [
    "# Count occurrences and calculate the ratio of female and male gender in the DataFrame\n",
    "\n",
    "# Specify the column containing gender information\n",
    "column_gender = 'gender'\n",
    "\n",
    "# Count the occurrences of each gender\n",
    "value_counts = df_metadata[column_gender].value_counts()\n",
    "\n",
    "# Calculate the ratio of each gender occurrence relative to the total number of rows\n",
    "ratio_counts = value_counts / len(df_metadata)\n",
    "\n",
    "# Iterate through the gender values, counts, and ratios, and print the results\n",
    "for value, count, ratio in zip(value_counts.index, value_counts, ratio_counts):\n",
    "    print(f\"Value: {value}, Number of appearances: {count}, Ratio: {ratio:.2%}\")"
   ]
  },
  {
   "cell_type": "code",
   "execution_count": 83,
   "metadata": {},
   "outputs": [
    {
     "name": "stdout",
     "output_type": "stream",
     "text": [
      "133\n",
      "130\n",
      "124\n",
      "140\n",
      "268\n",
      "184\n",
      "123\n",
      "186\n",
      "151\n",
      "211\n",
      "429\n",
      "256\n",
      "249\n",
      "156\n",
      "149\n",
      "209\n"
     ]
    }
   ],
   "source": [
    "unique = df_metadata['age'].unique()\n",
    "for value in unique:\n",
    "    if value > 120:\n",
    "        print(value)"
   ]
  },
  {
   "cell_type": "code",
   "execution_count": 61,
   "metadata": {},
   "outputs": [
    {
     "data": {
      "text/plain": [
       "429"
      ]
     },
     "execution_count": 61,
     "metadata": {},
     "output_type": "execute_result"
    }
   ],
   "source": [
    "max(df_metadata['age']) # WTF XD"
   ]
  },
  {
   "cell_type": "code",
   "execution_count": null,
   "metadata": {},
   "outputs": [],
   "source": [
    "# przejdz po wszystkich rekordach dataframu gdxie jest powyzej 105 roku zycia, sprawdz NaN\n",
    "# UNIQUE VALUES , sprawdz dla dtafrmae czy w kolumnie gender i age jest cos innego "
   ]
  },
  {
   "cell_type": "code",
   "execution_count": 62,
   "metadata": {},
   "outputs": [
    {
     "data": {
      "image/png": "[encoded data removed]",
      "text/plain": [
       "<Figure size 640x480 with 1 Axes>"
      ]
     },
     "metadata": {},
     "output_type": "display_data"
    }
   ],
   "source": [
    "import matplotlib.pyplot as plt \n",
    "# Visualizing the gender distribution using a pie chart\n",
    "\n",
    "# Extract the 'gender' column from the DataFrame and count the occurrences of each gender\n",
    "gender_counts = df_metadata['gender'].value_counts()\n",
    "\n",
    "# Plot a pie chart with the gender distribution\n",
    "gender_counts.plot.pie(autopct='%1.1f%%', colors=['#66b3ff', '#ff9999'])\n",
    "\n",
    "plt.title('Gender distribution')\n",
    "\n",
    "# Remove the y-axis label\n",
    "plt.ylabel('')\n",
    "\n",
    "\n",
    "plt.show()"
   ]
  },
  {
   "cell_type": "code",
   "execution_count": 63,
   "metadata": {},
   "outputs": [
    {
     "data": {
      "image/png": "[encoded data removed]",
      "text/plain": [
       "<Figure size 640x480 with 1 Axes>"
      ]
     },
     "metadata": {},
     "output_type": "display_data"
    }
   ],
   "source": [
    "# Visualizing the gender distribution using a pie chart with percentages and counts\n",
    "\n",
    "# Extract the 'gender' column from the DataFrame and count the occurrences of each gender\n",
    "gender_counts = df_metadata['gender'].value_counts()\n",
    "\n",
    "# Plot a pie chart with the gender distribution\n",
    "pie_chart = gender_counts.plot.pie(colors=['#66b3ff', '#ff9999'], autopct='%1.1f%%', startangle=90)\n",
    "\n",
    "plt.title('Gender distribution')\n",
    "\n",
    "plt.ylabel('')\n",
    "\n",
    "# Add counts inside each wedge with an offset below the chart\n",
    "for wedge in pie_chart.patches:\n",
    "    angle = (wedge.theta2 - wedge.theta1)\n",
    "    percentage = angle / 360.0\n",
    "    count = int(percentage * len(df_metadata))\n",
    "\n",
    "    # Offset to avoid overlapping, moving the text below the chart\n",
    "    offset_x = wedge.center[0] + 0.3 * np.cos(np.radians((wedge.theta1 + wedge.theta2) / 2))\n",
    "    offset_y = wedge.center[1] - 0.3 * np.sin(np.radians((wedge.theta1 + wedge.theta2) / 2))\n",
    "\n",
    "    pie_chart.annotate(f\"{count}\",\n",
    "                       (offset_x, offset_y),\n",
    "                       ha='center', va='center', fontsize=10, color='white', weight='bold')\n",
    "\n",
    "plt.show()"
   ]
  },
  {
   "cell_type": "code",
   "execution_count": 64,
   "metadata": {},
   "outputs": [
    {
     "data": {
      "image/png": "[encoded data removed]",
      "text/plain": [
       "<Figure size 640x480 with 1 Axes>"
      ]
     },
     "metadata": {},
     "output_type": "display_data"
    }
   ],
   "source": [
    "plt.hist(df_metadata['gender'])\n",
    "plt.show()"
   ]
  },
  {
   "cell_type": "code",
   "execution_count": null,
   "metadata": {},
   "outputs": [],
   "source": []
  },
  {
   "cell_type": "code",
   "execution_count": null,
   "metadata": {},
   "outputs": [],
   "source": []
  },
  {
   "cell_type": "code",
   "execution_count": null,
   "metadata": {},
   "outputs": [],
   "source": []
  },
  {
   "cell_type": "code",
   "execution_count": 65,
   "metadata": {},
   "outputs": [
    {
     "data": {
      "image/png": "[encoded data removed]",
      "text/plain": [
       "<Figure size 640x480 with 1 Axes>"
      ]
     },
     "metadata": {},
     "output_type": "display_data"
    }
   ],
   "source": [
    "import matplotlib.pyplot as plt\n",
    "plt.hist(df_metadata['age'], range(100))\n",
    "plt.xlabel('Age')\n",
    "plt.ylabel('Number of cases')\n",
    "plt.title('A histogram showing the number of people in relation to age\\n')\n",
    "plt.show()"
   ]
  },
  {
   "cell_type": "code",
   "execution_count": 66,
   "metadata": {},
   "outputs": [
    {
     "data": {
      "text/plain": [
       "array([[68, 'male',\n",
       "        'D:\\\\ProjectMLDataScience\\\\human-age-detection\\\\train\\\\data\\\\imdb_crop/01/nm0000001_rm946909184_1899-5-10_1968.jpg',\n",
       "        1.872117169344902],\n",
       "       [68, 'male',\n",
       "        'D:\\\\ProjectMLDataScience\\\\human-age-detection\\\\train\\\\data\\\\imdb_crop/01/nm0000001_rm980463616_1899-5-10_1968.jpg',\n",
       "        1.1587657871914132],\n",
       "       [79, 'female',\n",
       "        'D:\\\\ProjectMLDataScience\\\\human-age-detection\\\\train\\\\data\\\\imdb_crop/02/nm0000002_rm1346607872_1924-9-16_2004.jpg',\n",
       "        3.4791889134154426],\n",
       "       ...,\n",
       "       [25, 'male',\n",
       "        'D:\\\\ProjectMLDataScience\\\\human-age-detection\\\\train\\\\data\\\\wiki_crop/49/9996949_1937-04-17_1963.jpg',\n",
       "        4.029267756985114],\n",
       "       [40, 'male',\n",
       "        'D:\\\\ProjectMLDataScience\\\\human-age-detection\\\\train\\\\data\\\\wiki_crop/09/9998109_1972-12-27_2013.jpg',\n",
       "        3.4943031690208564],\n",
       "       [53, 'female',\n",
       "        'D:\\\\ProjectMLDataScience\\\\human-age-detection\\\\train\\\\data\\\\wiki_crop/80/999980_1954-06-11_2008.jpg',\n",
       "        5.486916546849864]], dtype=object)"
      ]
     },
     "execution_count": 66,
     "metadata": {},
     "output_type": "execute_result"
    }
   ],
   "source": [
    "df_metadata.values\n"
   ]
  },
  {
   "cell_type": "code",
   "execution_count": 67,
   "metadata": {},
   "outputs": [
    {
     "data": {
      "text/html": [
       "<div>\n",
       "<style scoped>\n",
       "    .dataframe tbody tr th:only-of-type {\n",
       "        vertical-align: middle;\n",
       "    }\n",
       "\n",
       "    .dataframe tbody tr th {\n",
       "        vertical-align: top;\n",
       "    }\n",
       "\n",
       "    .dataframe thead th {\n",
       "        text-align: right;\n",
       "    }\n",
       "</style>\n",
       "<table border=\"1\" class=\"dataframe\">\n",
       "  <thead>\n",
       "    <tr style=\"text-align: right;\">\n",
       "      <th></th>\n",
       "      <th>age</th>\n",
       "      <th>gender</th>\n",
       "      <th>path</th>\n",
       "      <th>face_score1</th>\n",
       "      <th>age category</th>\n",
       "    </tr>\n",
       "  </thead>\n",
       "  <tbody>\n",
       "    <tr>\n",
       "      <th>0</th>\n",
       "      <td>68</td>\n",
       "      <td>male</td>\n",
       "      <td>D:\\ProjectMLDataScience\\human-age-detection\\tr...</td>\n",
       "      <td>1.872117</td>\n",
       "      <td>60-79</td>\n",
       "    </tr>\n",
       "    <tr>\n",
       "      <th>1</th>\n",
       "      <td>68</td>\n",
       "      <td>male</td>\n",
       "      <td>D:\\ProjectMLDataScience\\human-age-detection\\tr...</td>\n",
       "      <td>1.158766</td>\n",
       "      <td>60-79</td>\n",
       "    </tr>\n",
       "    <tr>\n",
       "      <th>2</th>\n",
       "      <td>79</td>\n",
       "      <td>female</td>\n",
       "      <td>D:\\ProjectMLDataScience\\human-age-detection\\tr...</td>\n",
       "      <td>3.479189</td>\n",
       "      <td>60-79</td>\n",
       "    </tr>\n",
       "    <tr>\n",
       "      <th>3</th>\n",
       "      <td>79</td>\n",
       "      <td>female</td>\n",
       "      <td>D:\\ProjectMLDataScience\\human-age-detection\\tr...</td>\n",
       "      <td>3.870171</td>\n",
       "      <td>60-79</td>\n",
       "    </tr>\n",
       "    <tr>\n",
       "      <th>4</th>\n",
       "      <td>49</td>\n",
       "      <td>female</td>\n",
       "      <td>D:\\ProjectMLDataScience\\human-age-detection\\tr...</td>\n",
       "      <td>4.096431</td>\n",
       "      <td>40-59</td>\n",
       "    </tr>\n",
       "    <tr>\n",
       "      <th>5</th>\n",
       "      <td>82</td>\n",
       "      <td>female</td>\n",
       "      <td>D:\\ProjectMLDataScience\\human-age-detection\\tr...</td>\n",
       "      <td>3.482030</td>\n",
       "      <td>80-120</td>\n",
       "    </tr>\n",
       "    <tr>\n",
       "      <th>6</th>\n",
       "      <td>49</td>\n",
       "      <td>female</td>\n",
       "      <td>D:\\ProjectMLDataScience\\human-age-detection\\tr...</td>\n",
       "      <td>4.865421</td>\n",
       "      <td>40-59</td>\n",
       "    </tr>\n",
       "    <tr>\n",
       "      <th>7</th>\n",
       "      <td>81</td>\n",
       "      <td>female</td>\n",
       "      <td>D:\\ProjectMLDataScience\\human-age-detection\\tr...</td>\n",
       "      <td>5.414545</td>\n",
       "      <td>80-120</td>\n",
       "    </tr>\n",
       "    <tr>\n",
       "      <th>8</th>\n",
       "      <td>81</td>\n",
       "      <td>female</td>\n",
       "      <td>D:\\ProjectMLDataScience\\human-age-detection\\tr...</td>\n",
       "      <td>4.360469</td>\n",
       "      <td>80-120</td>\n",
       "    </tr>\n",
       "    <tr>\n",
       "      <th>9</th>\n",
       "      <td>79</td>\n",
       "      <td>female</td>\n",
       "      <td>D:\\ProjectMLDataScience\\human-age-detection\\tr...</td>\n",
       "      <td>3.559209</td>\n",
       "      <td>60-79</td>\n",
       "    </tr>\n",
       "    <tr>\n",
       "      <th>10</th>\n",
       "      <td>82</td>\n",
       "      <td>female</td>\n",
       "      <td>D:\\ProjectMLDataScience\\human-age-detection\\tr...</td>\n",
       "      <td>4.126855</td>\n",
       "      <td>80-120</td>\n",
       "    </tr>\n",
       "    <tr>\n",
       "      <th>11</th>\n",
       "      <td>82</td>\n",
       "      <td>female</td>\n",
       "      <td>D:\\ProjectMLDataScience\\human-age-detection\\tr...</td>\n",
       "      <td>2.778305</td>\n",
       "      <td>80-120</td>\n",
       "    </tr>\n",
       "    <tr>\n",
       "      <th>12</th>\n",
       "      <td>66</td>\n",
       "      <td>female</td>\n",
       "      <td>D:\\ProjectMLDataScience\\human-age-detection\\tr...</td>\n",
       "      <td>1.024959</td>\n",
       "      <td>60-79</td>\n",
       "    </tr>\n",
       "    <tr>\n",
       "      <th>13</th>\n",
       "      <td>81</td>\n",
       "      <td>female</td>\n",
       "      <td>D:\\ProjectMLDataScience\\human-age-detection\\tr...</td>\n",
       "      <td>2.682337</td>\n",
       "      <td>80-120</td>\n",
       "    </tr>\n",
       "    <tr>\n",
       "      <th>14</th>\n",
       "      <td>81</td>\n",
       "      <td>female</td>\n",
       "      <td>D:\\ProjectMLDataScience\\human-age-detection\\tr...</td>\n",
       "      <td>2.278244</td>\n",
       "      <td>80-120</td>\n",
       "    </tr>\n",
       "    <tr>\n",
       "      <th>15</th>\n",
       "      <td>85</td>\n",
       "      <td>female</td>\n",
       "      <td>D:\\ProjectMLDataScience\\human-age-detection\\tr...</td>\n",
       "      <td>3.014811</td>\n",
       "      <td>80-120</td>\n",
       "    </tr>\n",
       "    <tr>\n",
       "      <th>16</th>\n",
       "      <td>65</td>\n",
       "      <td>female</td>\n",
       "      <td>D:\\ProjectMLDataScience\\human-age-detection\\tr...</td>\n",
       "      <td>3.801102</td>\n",
       "      <td>60-79</td>\n",
       "    </tr>\n",
       "    <tr>\n",
       "      <th>17</th>\n",
       "      <td>66</td>\n",
       "      <td>female</td>\n",
       "      <td>D:\\ProjectMLDataScience\\human-age-detection\\tr...</td>\n",
       "      <td>3.454289</td>\n",
       "      <td>60-79</td>\n",
       "    </tr>\n",
       "    <tr>\n",
       "      <th>18</th>\n",
       "      <td>81</td>\n",
       "      <td>female</td>\n",
       "      <td>D:\\ProjectMLDataScience\\human-age-detection\\tr...</td>\n",
       "      <td>5.272468</td>\n",
       "      <td>80-120</td>\n",
       "    </tr>\n",
       "    <tr>\n",
       "      <th>19</th>\n",
       "      <td>80</td>\n",
       "      <td>female</td>\n",
       "      <td>D:\\ProjectMLDataScience\\human-age-detection\\tr...</td>\n",
       "      <td>4.723313</td>\n",
       "      <td>80-120</td>\n",
       "    </tr>\n",
       "  </tbody>\n",
       "</table>\n",
       "</div>"
      ],
      "text/plain": [
       "    age  gender                                               path  \\\n",
       "0    68    male  D:\\ProjectMLDataScience\\human-age-detection\\tr...   \n",
       "1    68    male  D:\\ProjectMLDataScience\\human-age-detection\\tr...   \n",
       "2    79  female  D:\\ProjectMLDataScience\\human-age-detection\\tr...   \n",
       "3    79  female  D:\\ProjectMLDataScience\\human-age-detection\\tr...   \n",
       "4    49  female  D:\\ProjectMLDataScience\\human-age-detection\\tr...   \n",
       "5    82  female  D:\\ProjectMLDataScience\\human-age-detection\\tr...   \n",
       "6    49  female  D:\\ProjectMLDataScience\\human-age-detection\\tr...   \n",
       "7    81  female  D:\\ProjectMLDataScience\\human-age-detection\\tr...   \n",
       "8    81  female  D:\\ProjectMLDataScience\\human-age-detection\\tr...   \n",
       "9    79  female  D:\\ProjectMLDataScience\\human-age-detection\\tr...   \n",
       "10   82  female  D:\\ProjectMLDataScience\\human-age-detection\\tr...   \n",
       "11   82  female  D:\\ProjectMLDataScience\\human-age-detection\\tr...   \n",
       "12   66  female  D:\\ProjectMLDataScience\\human-age-detection\\tr...   \n",
       "13   81  female  D:\\ProjectMLDataScience\\human-age-detection\\tr...   \n",
       "14   81  female  D:\\ProjectMLDataScience\\human-age-detection\\tr...   \n",
       "15   85  female  D:\\ProjectMLDataScience\\human-age-detection\\tr...   \n",
       "16   65  female  D:\\ProjectMLDataScience\\human-age-detection\\tr...   \n",
       "17   66  female  D:\\ProjectMLDataScience\\human-age-detection\\tr...   \n",
       "18   81  female  D:\\ProjectMLDataScience\\human-age-detection\\tr...   \n",
       "19   80  female  D:\\ProjectMLDataScience\\human-age-detection\\tr...   \n",
       "\n",
       "    face_score1 age category  \n",
       "0      1.872117        60-79  \n",
       "1      1.158766        60-79  \n",
       "2      3.479189        60-79  \n",
       "3      3.870171        60-79  \n",
       "4      4.096431        40-59  \n",
       "5      3.482030       80-120  \n",
       "6      4.865421        40-59  \n",
       "7      5.414545       80-120  \n",
       "8      4.360469       80-120  \n",
       "9      3.559209        60-79  \n",
       "10     4.126855       80-120  \n",
       "11     2.778305       80-120  \n",
       "12     1.024959        60-79  \n",
       "13     2.682337       80-120  \n",
       "14     2.278244       80-120  \n",
       "15     3.014811       80-120  \n",
       "16     3.801102        60-79  \n",
       "17     3.454289        60-79  \n",
       "18     5.272468       80-120  \n",
       "19     4.723313       80-120  "
      ]
     },
     "execution_count": 67,
     "metadata": {},
     "output_type": "execute_result"
    }
   ],
   "source": [
    "# Create an 'age category' column to illustrate and divide the number of faces with a given detected age into groups\n",
    "\n",
    "df_metadata_with_agecategory = df_metadata[['age', 'gender', 'path', 'face_score1']]\n",
    "\n",
    "bins = [1, 19, 39, 59, 79, 120] # Define age category boundaries\n",
    "labels = ['1-19', '20-39', '40-59', '60-79', '80-120'] # Define labels for each age category\n",
    "df_metadata_with_agecategory['age category'] = pd.cut(df_metadata_with_agecategory['age'], bins=bins, labels=labels, right=True) # Add a new column 'age category' to the DataFrame\n",
    "pd.DataFrame(df_metadata_with_agecategory[:20]) # DataFrame with a new column"
   ]
  },
  {
   "cell_type": "code",
   "execution_count": 68,
   "metadata": {},
   "outputs": [],
   "source": [
    "women_age = df_metadata_with_agecategory.loc[df_metadata_with_agecategory['gender'] == 'female', 'age']\n",
    "men_age = df_metadata_with_agecategory.loc[df_metadata_with_agecategory['gender'] == 'male', 'age']"
   ]
  },
  {
   "cell_type": "code",
   "execution_count": 73,
   "metadata": {},
   "outputs": [
    {
     "data": {
      "image/png": "[encoded data removed]",
      "text/plain": [
       "<Figure size 800x600 with 1 Axes>"
      ]
     },
     "metadata": {},
     "output_type": "display_data"
    }
   ],
   "source": [
    "# Create a histogram of the number of cases depending on age and gender\n",
    "plt.figure(figsize=(8, 6))\n",
    "plt.hist([women_age, men_age], bins=bins, color=['pink', 'blue'], label=['female', 'male'])\n",
    "\n",
    "bin_centers = 0.5 * np.diff(bins) + bins[:-1] # Use 'bin_centers' to get the center of each age range as a place for the label. This should correct the unevenness of the labels on the X axis\n",
    "for bin_edge in bins[1:-1]:\n",
    "    plt.axvline(x=bin_edge, color='red', linestyle='--', linewidth=1)\n",
    "\n",
    "x_ticks = [25, 35, 50]\n",
    "for x_tick in x_ticks:\n",
    "    plt.axhline(y=x_tick, color='green', linestyle=':', linewidth=1)\n",
    "    \n",
    "plt.xticks(bin_centers, labels)\n",
    "plt.xlabel('age')\n",
    "plt.ylabel('number of cases')\n",
    "plt.title('Histogram of the number of cases depending on age and gender\\n')\n",
    "plt.legend()\n",
    "plt.show()"
   ]
  },
  {
   "cell_type": "code",
   "execution_count": 70,
   "metadata": {},
   "outputs": [
    {
     "name": "stdout",
     "output_type": "stream",
     "text": [
      "<class 'pandas.core.frame.DataFrame'>\n",
      "Int64Index: 18755 entries, 4 to 224839\n",
      "Data columns (total 5 columns):\n",
      " #   Column        Non-Null Count  Dtype   \n",
      "---  ------        --------------  -----   \n",
      " 0   age           18755 non-null  int64   \n",
      " 1   gender        18755 non-null  object  \n",
      " 2   path          18755 non-null  object  \n",
      " 3   face_score1   18755 non-null  float64 \n",
      " 4   age category  18755 non-null  category\n",
      "dtypes: category(1), float64(1), int64(1), object(2)\n",
      "memory usage: 751.1+ KB\n"
     ]
    }
   ],
   "source": [
    "# Check the correctness of the chart. Compare values \n",
    "selected_rows = df_metadata_with_agecategory.loc[(df_metadata_with_agecategory['age category'] == '40-59') & (df_metadata_with_agecategory['gender'] == 'female')]\n",
    "selected_rows.info() # 9720 entries: good"
   ]
  },
  {
   "cell_type": "code",
   "execution_count": null,
   "metadata": {},
   "outputs": [],
   "source": []
  },
  {
   "cell_type": "code",
   "execution_count": null,
   "metadata": {},
   "outputs": [],
   "source": []
  },
  {
   "cell_type": "code",
   "execution_count": null,
   "metadata": {},
   "outputs": [],
   "source": []
  },
  {
   "cell_type": "code",
   "execution_count": 71,
   "metadata": {},
   "outputs": [
    {
     "ename": "NameError",
     "evalue": "name 'directory' is not defined",
     "output_type": "error",
     "traceback": [
      "\u001b[1;31m---------------------------------------------------------------------------\u001b[0m",
      "\u001b[1;31mNameError\u001b[0m                                 Traceback (most recent call last)",
      "\u001b[1;32m~\\AppData\\Local\\Temp\\ipykernel_26264\\838203800.py\u001b[0m in \u001b[0;36m<module>\u001b[1;34m\u001b[0m\n\u001b[0;32m      1\u001b[0m \u001b[1;31m# List of image files in the directory\u001b[0m\u001b[1;33m\u001b[0m\u001b[1;33m\u001b[0m\u001b[0m\n\u001b[1;32m----> 2\u001b[1;33m \u001b[0mimage_files\u001b[0m \u001b[1;33m=\u001b[0m \u001b[1;33m[\u001b[0m\u001b[0mf\u001b[0m \u001b[1;32mfor\u001b[0m \u001b[0mf\u001b[0m \u001b[1;32min\u001b[0m \u001b[0mos\u001b[0m\u001b[1;33m.\u001b[0m\u001b[0mlistdir\u001b[0m\u001b[1;33m(\u001b[0m\u001b[0mdirectory\u001b[0m\u001b[1;33m)\u001b[0m \u001b[1;32mif\u001b[0m \u001b[0mf\u001b[0m\u001b[1;33m.\u001b[0m\u001b[0mendswith\u001b[0m\u001b[1;33m(\u001b[0m\u001b[1;34m'.jpg'\u001b[0m\u001b[1;33m)\u001b[0m\u001b[1;33m]\u001b[0m\u001b[1;33m\u001b[0m\u001b[1;33m\u001b[0m\u001b[0m\n\u001b[0m",
      "\u001b[1;31mNameError\u001b[0m: name 'directory' is not defined"
     ]
    }
   ],
   "source": [
    "# List of image files in the directory\n",
    "image_files = [f for f in os.listdir(directory) if f.endswith('.jpg')]"
   ]
  },
  {
   "cell_type": "code",
   "execution_count": null,
   "metadata": {},
   "outputs": [
    {
     "data": {
      "text/plain": [
       "0"
      ]
     },
     "execution_count": 6,
     "metadata": {},
     "output_type": "execute_result"
    }
   ],
   "source": [
    "len(image_files) # Number of image files in the directory"
   ]
  },
  {
   "cell_type": "code",
   "execution_count": null,
   "metadata": {},
   "outputs": [],
   "source": [
    "# This function is used to display several (user-specified number) images from the selected directory\n",
    "def display_images(images, num_cols=4):\n",
    "    num_images = len(images)\n",
    "    num_rows = (num_images + num_cols - 1) // num_cols\n",
    "    plt.figure(figsize=(12, 8))\n",
    "    for i, image_file in enumerate(images):\n",
    "        img = Image.open(os.path.join(directory, image_file))\n",
    "        plt.subplot(num_rows, num_cols, i + 1)\n",
    "        plt.imshow(img)\n",
    "        plt.title(image_file, fontdict = {'fontsize' : 6})\n",
    "        plt.axis('off')\n",
    "    plt.show()"
   ]
  },
  {
   "cell_type": "code",
   "execution_count": null,
   "metadata": {},
   "outputs": [
    {
     "data": {
      "text/plain": [
       "<Figure size 1200x800 with 0 Axes>"
      ]
     },
     "metadata": {},
     "output_type": "display_data"
    }
   ],
   "source": [
    "display_images(image_files[:4])"
   ]
  },
  {
   "cell_type": "code",
   "execution_count": null,
   "metadata": {},
   "outputs": [
    {
     "name": "stdout",
     "output_type": "stream",
     "text": [
      "File name: nm0000100_rm1001569280_1955-1-6_2011.jpg, Size: 500x500, Mode: RGB\n",
      "File name: nm0000100_rm1002674432_1955-1-6_2003.jpg, Size: 171x171, Mode: RGB\n",
      "File name: nm0000100_rm1018346496_1955-1-6_2011.jpg, Size: 315x315, Mode: RGB\n",
      "File name: nm0000100_rm1019451648_1955-1-6_2003.jpg, Size: 252x252, Mode: RGB\n",
      "File name: nm0000100_rm103389184_1955-1-6_2005.jpg, Size: 334x334, Mode: RGB\n",
      "File name: nm0000100_rm1035123712_1955-1-6_2011.jpg, Size: 334x500, Mode: RGB\n",
      "File name: nm0000100_rm1036228864_1955-1-6_2003.jpg, Size: 105x106, Mode: RGB\n",
      "File name: nm0000100_rm1051900928_1955-1-6_2011.jpg, Size: 500x500, Mode: RGB\n"
     ]
    }
   ],
   "source": [
    "# Przykładowe statystyki o obrazach\n",
    "for image_file in image_files[:8]:\n",
    "    img = Image.open(os.path.join(directory, image_file))\n",
    "    width, height = img.size\n",
    "    mode = img.mode\n",
    "    print(f'File name: {image_file}, Size: {width}x{height}, Mode: {mode}')"
   ]
  },
  {
   "cell_type": "code",
   "execution_count": null,
   "metadata": {},
   "outputs": [
    {
     "ename": "AxisError",
     "evalue": "axis 0 is out of bounds for array of dimension 0",
     "output_type": "error",
     "traceback": [
      "\u001b[1;31m---------------------------------------------------------------------------\u001b[0m",
      "\u001b[1;31mAxisError\u001b[0m                                 Traceback (most recent call last)",
      "\u001b[1;32m~\\AppData\\Local\\Temp\\ipykernel_32168\\2341933102.py\u001b[0m in \u001b[0;36m<module>\u001b[1;34m\u001b[0m\n\u001b[1;32m----> 1\u001b[1;33m \u001b[0mmean_color\u001b[0m \u001b[1;33m=\u001b[0m \u001b[0mnp\u001b[0m\u001b[1;33m.\u001b[0m\u001b[0mmean\u001b[0m\u001b[1;33m(\u001b[0m\u001b[0mimage_file\u001b[0m\u001b[1;33m,\u001b[0m \u001b[0maxis\u001b[0m\u001b[1;33m=\u001b[0m\u001b[1;33m(\u001b[0m\u001b[1;36m0\u001b[0m\u001b[1;33m,\u001b[0m \u001b[1;36m1\u001b[0m\u001b[1;33m)\u001b[0m\u001b[1;33m)\u001b[0m\u001b[1;33m\u001b[0m\u001b[1;33m\u001b[0m\u001b[0m\n\u001b[0m\u001b[0;32m      2\u001b[0m \u001b[0mprint\u001b[0m\u001b[1;33m(\u001b[0m\u001b[1;34mf\"Średni kolor (BGR) {image_file}: {mean_color}\"\u001b[0m\u001b[1;33m)\u001b[0m\u001b[1;33m\u001b[0m\u001b[1;33m\u001b[0m\u001b[0m\n",
      "\u001b[1;32mc:\\Users\\HP\\anaconda3\\lib\\site-packages\\numpy\\core\\fromnumeric.py\u001b[0m in \u001b[0;36mmean\u001b[1;34m(a, axis, dtype, out, keepdims, where)\u001b[0m\n\u001b[0;32m   3502\u001b[0m             \u001b[1;32mreturn\u001b[0m \u001b[0mmean\u001b[0m\u001b[1;33m(\u001b[0m\u001b[0maxis\u001b[0m\u001b[1;33m=\u001b[0m\u001b[0maxis\u001b[0m\u001b[1;33m,\u001b[0m \u001b[0mdtype\u001b[0m\u001b[1;33m=\u001b[0m\u001b[0mdtype\u001b[0m\u001b[1;33m,\u001b[0m \u001b[0mout\u001b[0m\u001b[1;33m=\u001b[0m\u001b[0mout\u001b[0m\u001b[1;33m,\u001b[0m \u001b[1;33m**\u001b[0m\u001b[0mkwargs\u001b[0m\u001b[1;33m)\u001b[0m\u001b[1;33m\u001b[0m\u001b[1;33m\u001b[0m\u001b[0m\n\u001b[0;32m   3503\u001b[0m \u001b[1;33m\u001b[0m\u001b[0m\n\u001b[1;32m-> 3504\u001b[1;33m     return _methods._mean(a, axis=axis, dtype=dtype,\n\u001b[0m\u001b[0;32m   3505\u001b[0m                           out=out, **kwargs)\n\u001b[0;32m   3506\u001b[0m \u001b[1;33m\u001b[0m\u001b[0m\n",
      "\u001b[1;32mc:\\Users\\HP\\anaconda3\\lib\\site-packages\\numpy\\core\\_methods.py\u001b[0m in \u001b[0;36m_mean\u001b[1;34m(a, axis, dtype, out, keepdims, where)\u001b[0m\n\u001b[0;32m    104\u001b[0m     \u001b[0mis_float16_result\u001b[0m \u001b[1;33m=\u001b[0m \u001b[1;32mFalse\u001b[0m\u001b[1;33m\u001b[0m\u001b[1;33m\u001b[0m\u001b[0m\n\u001b[0;32m    105\u001b[0m \u001b[1;33m\u001b[0m\u001b[0m\n\u001b[1;32m--> 106\u001b[1;33m     \u001b[0mrcount\u001b[0m \u001b[1;33m=\u001b[0m \u001b[0m_count_reduce_items\u001b[0m\u001b[1;33m(\u001b[0m\u001b[0marr\u001b[0m\u001b[1;33m,\u001b[0m \u001b[0maxis\u001b[0m\u001b[1;33m,\u001b[0m \u001b[0mkeepdims\u001b[0m\u001b[1;33m=\u001b[0m\u001b[0mkeepdims\u001b[0m\u001b[1;33m,\u001b[0m \u001b[0mwhere\u001b[0m\u001b[1;33m=\u001b[0m\u001b[0mwhere\u001b[0m\u001b[1;33m)\u001b[0m\u001b[1;33m\u001b[0m\u001b[1;33m\u001b[0m\u001b[0m\n\u001b[0m\u001b[0;32m    107\u001b[0m     \u001b[1;32mif\u001b[0m \u001b[0mrcount\u001b[0m \u001b[1;33m==\u001b[0m \u001b[1;36m0\u001b[0m \u001b[1;32mif\u001b[0m \u001b[0mwhere\u001b[0m \u001b[1;32mis\u001b[0m \u001b[1;32mTrue\u001b[0m \u001b[1;32melse\u001b[0m \u001b[0mumr_any\u001b[0m\u001b[1;33m(\u001b[0m\u001b[0mrcount\u001b[0m \u001b[1;33m==\u001b[0m \u001b[1;36m0\u001b[0m\u001b[1;33m,\u001b[0m \u001b[0maxis\u001b[0m\u001b[1;33m=\u001b[0m\u001b[1;32mNone\u001b[0m\u001b[1;33m)\u001b[0m\u001b[1;33m:\u001b[0m\u001b[1;33m\u001b[0m\u001b[1;33m\u001b[0m\u001b[0m\n\u001b[0;32m    108\u001b[0m         \u001b[0mwarnings\u001b[0m\u001b[1;33m.\u001b[0m\u001b[0mwarn\u001b[0m\u001b[1;33m(\u001b[0m\u001b[1;34m\"Mean of empty slice.\"\u001b[0m\u001b[1;33m,\u001b[0m \u001b[0mRuntimeWarning\u001b[0m\u001b[1;33m,\u001b[0m \u001b[0mstacklevel\u001b[0m\u001b[1;33m=\u001b[0m\u001b[1;36m2\u001b[0m\u001b[1;33m)\u001b[0m\u001b[1;33m\u001b[0m\u001b[1;33m\u001b[0m\u001b[0m\n",
      "\u001b[1;32mc:\\Users\\HP\\anaconda3\\lib\\site-packages\\numpy\\core\\_methods.py\u001b[0m in \u001b[0;36m_count_reduce_items\u001b[1;34m(arr, axis, keepdims, where)\u001b[0m\n\u001b[0;32m     75\u001b[0m         \u001b[0mitems\u001b[0m \u001b[1;33m=\u001b[0m \u001b[1;36m1\u001b[0m\u001b[1;33m\u001b[0m\u001b[1;33m\u001b[0m\u001b[0m\n\u001b[0;32m     76\u001b[0m         \u001b[1;32mfor\u001b[0m \u001b[0max\u001b[0m \u001b[1;32min\u001b[0m \u001b[0maxis\u001b[0m\u001b[1;33m:\u001b[0m\u001b[1;33m\u001b[0m\u001b[1;33m\u001b[0m\u001b[0m\n\u001b[1;32m---> 77\u001b[1;33m             \u001b[0mitems\u001b[0m \u001b[1;33m*=\u001b[0m \u001b[0marr\u001b[0m\u001b[1;33m.\u001b[0m\u001b[0mshape\u001b[0m\u001b[1;33m[\u001b[0m\u001b[0mmu\u001b[0m\u001b[1;33m.\u001b[0m\u001b[0mnormalize_axis_index\u001b[0m\u001b[1;33m(\u001b[0m\u001b[0max\u001b[0m\u001b[1;33m,\u001b[0m \u001b[0marr\u001b[0m\u001b[1;33m.\u001b[0m\u001b[0mndim\u001b[0m\u001b[1;33m)\u001b[0m\u001b[1;33m]\u001b[0m\u001b[1;33m\u001b[0m\u001b[1;33m\u001b[0m\u001b[0m\n\u001b[0m\u001b[0;32m     78\u001b[0m         \u001b[0mitems\u001b[0m \u001b[1;33m=\u001b[0m \u001b[0mnt\u001b[0m\u001b[1;33m.\u001b[0m\u001b[0mintp\u001b[0m\u001b[1;33m(\u001b[0m\u001b[0mitems\u001b[0m\u001b[1;33m)\u001b[0m\u001b[1;33m\u001b[0m\u001b[1;33m\u001b[0m\u001b[0m\n\u001b[0;32m     79\u001b[0m     \u001b[1;32melse\u001b[0m\u001b[1;33m:\u001b[0m\u001b[1;33m\u001b[0m\u001b[1;33m\u001b[0m\u001b[0m\n",
      "\u001b[1;31mAxisError\u001b[0m: axis 0 is out of bounds for array of dimension 0"
     ]
    }
   ],
   "source": [
    "mean_color = np.mean(image_file, axis=(0, 1))\n",
    "print(f\"Średni kolor (BGR) {image_file}: {mean_color}\")"
   ]
  },
  {
   "cell_type": "code",
   "execution_count": null,
   "metadata": {},
   "outputs": [],
   "source": []
  }
 ],
 "metadata": {
  "kernelspec": {
   "display_name": "base",
   "language": "python",
   "name": "python3"
  },
  "language_info": {
   "codemirror_mode": {
    "name": "ipython",
    "version": 3
   },
   "file_extension": ".py",
   "mimetype": "text/x-python",
   "name": "python",
   "nbconvert_exporter": "python",
   "pygments_lexer": "ipython3",
   "version": "3.9.13"
  }
 },
 "nbformat": 4,
 "nbformat_minor": 2
}
